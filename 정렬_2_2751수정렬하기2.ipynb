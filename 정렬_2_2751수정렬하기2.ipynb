{
 "cells": [
  {
   "cell_type": "code",
   "execution_count": 5,
   "metadata": {},
   "outputs": [
    {
     "name": "stdout",
     "output_type": "stream",
     "text": [
      "3\n",
      "1\n",
      "3\n",
      "2\n",
      "3\n",
      "2\n",
      "1\n"
     ]
    }
   ],
   "source": [
    "num = int(input())\n",
    "arr = []\n",
    "for _ in range(num):\n",
    "    arr.append(int(input()))\n",
    "for i in range(num-1):\n",
    "    for j in range(num-1-i):\n",
    "        if arr[j] < arr[j+1]:\n",
    "            arr[j] , arr[j+1] = arr[j+1] , arr[j]\n",
    "for k in arr:\n",
    "    print(k)\n",
    "        \n",
    "    \n",
    "\n"
   ]
  },
  {
   "cell_type": "code",
   "execution_count": null,
   "metadata": {},
   "outputs": [],
   "source": [
    "n 입력받음\n",
    "n개의 배열을 생성\n",
    "for 절반으로 분리\n",
    "     n개의 배열을 각각 낱개로 1개까지로 분리\n",
    "    ## 만약 홀수라면 어떤식으로 분리 할 것인가\n",
    "두개씩 묶음 \n",
    "\n"
   ]
  },
  {
   "cell_type": "code",
   "execution_count": null,
   "metadata": {},
   "outputs": [],
   "source": []
  }
 ],
 "metadata": {
  "kernelspec": {
   "display_name": "Python 3",
   "language": "python",
   "name": "python3"
  },
  "language_info": {
   "codemirror_mode": {
    "name": "ipython",
    "version": 3
   },
   "file_extension": ".py",
   "mimetype": "text/x-python",
   "name": "python",
   "nbconvert_exporter": "python",
   "pygments_lexer": "ipython3",
   "version": "3.7.4"
  }
 },
 "nbformat": 4,
 "nbformat_minor": 2
}
