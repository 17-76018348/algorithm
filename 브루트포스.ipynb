{
  "nbformat": 4,
  "nbformat_minor": 0,
  "metadata": {
    "colab": {
      "name": "브루트포스",
      "provenance": [],
      "include_colab_link": true
    },
    "kernelspec": {
      "name": "python3",
      "display_name": "Python 3"
    }
  },
  "cells": [
    {
      "cell_type": "markdown",
      "metadata": {
        "id": "view-in-github",
        "colab_type": "text"
      },
      "source": [
        "<a href=\"https://colab.research.google.com/github/17-76018348/algorithm/blob/master/%EB%B8%8C%EB%A3%A8%ED%8A%B8%ED%8F%AC%EC%8A%A4.ipynb\" target=\"_parent\"><img src=\"https://colab.research.google.com/assets/colab-badge.svg\" alt=\"Open In Colab\"/></a>"
      ]
    },
    {
      "cell_type": "code",
      "metadata": {
        "id": "oFe4AN_bW0D7",
        "colab_type": "code",
        "colab": {}
      },
      "source": [
        "a = input()\n",
        "int_a = int(a)\n",
        "num = 0\n",
        "flag = False\n",
        "if int_a>54:\n",
        "  for i in range(int_a-54,int_a):\n",
        "    for j in range(len(str(i))):\n",
        "      num += int((str(i))[j])\n",
        "    #print(i)\n",
        "    if num + i == int_a:\n",
        "      print(i)\n",
        "      flag = True\n",
        "      break\n",
        "    num = 0\n",
        "else:\n",
        "  for i in range(int_a):\n",
        "    for j in range(len(str(i))):\n",
        "      num += int((str(i))[j])\n",
        "    if num + i == int_a:\n",
        "      print(i)\n",
        "      flag = True\n",
        "      break\n",
        "    num = 0\n",
        "if flag == False:\n",
        "  print(\"0\")\n",
        "\n"
      ],
      "execution_count": 0,
      "outputs": []
    },
    {
      "cell_type": "code",
      "metadata": {
        "id": "YUyykWnaXmjY",
        "colab_type": "code",
        "colab": {}
      },
      "source": [
        "a = input()\n",
        "int_a = int(a)\n",
        "cnt = 0\n",
        "num = 0\n",
        "flag = False\n",
        "for i in range(100000000000000):\n",
        "  str_i = str(i)\n",
        "  for j in range(len(str_i)):\n",
        "    if str_i[j] == '6':\n",
        "      cnt += 1\n",
        "    elif str_i[j] != '6':\n",
        "      cnt = 0\n",
        "    if cnt >= 3:\n",
        "      num += 1\n",
        "      cnt = 0\n",
        "      \n",
        "      if num == int_a:\n",
        "        print(i)\n",
        "        flag = True\n",
        "        break\n",
        "      break\n",
        "  cnt = 0\n",
        "  if flag == True:\n",
        "    break\n",
        "\n",
        "    \n",
        "\n",
        "  "
      ],
      "execution_count": 0,
      "outputs": []
    },
    {
      "cell_type": "code",
      "metadata": {
        "id": "qOc9v4skpQ-6",
        "colab_type": "code",
        "colab": {}
      },
      "source": [
        "y,x = map(int,input().split())\n",
        "result = list()\n",
        "num = 0\n",
        "arr = []\n",
        "for i in range(y):\n",
        "    tmp = list()\n",
        "    str_ = input()\n",
        "    for ch in str_:\n",
        "        tmp.append(ch)\n",
        "    result.append(tmp)\n",
        "for cnt_1 in range(y-7):\n",
        "  for cnt_2 in range(x-7):\n",
        "    for i in range(0+cnt_1,8+cnt_1):\n",
        "      for j in range(0+cnt_2,8+cnt_2):\n",
        "        if (i+j) %2 ==0:\n",
        "          if result[i][j] == 'B':\n",
        "            num += 1\n",
        "        else:\n",
        "          if result[i][j] == 'W':\n",
        "            num += 1\n",
        "    arr.append(num)\n",
        "    num = 0\n",
        "for cnt_1 in range(y-7):\n",
        "  for cnt_2 in range(x-7):\n",
        "    for i in range(0+cnt_1,8+cnt_1):\n",
        "      for j in range(0+cnt_2,8+cnt_2):\n",
        "        if (i+j) %2 ==1:\n",
        "          if result[i][j] == 'B':\n",
        "            num += 1\n",
        "        else:\n",
        "          if result[i][j] == 'W':\n",
        "            num += 1\n",
        "    arr.append(num)\n",
        "    num = 0\n",
        "arr.sort()\n",
        "print(arr[0])\n",
        "\n",
        "\n",
        "\n",
        "\n"
      ],
      "execution_count": 0,
      "outputs": []
    },
    {
      "cell_type": "code",
      "metadata": {
        "id": "Y5whNPlZ4IlF",
        "colab_type": "code",
        "colab": {}
      },
      "source": [
        "num = int(input())\n",
        "arr = []\n",
        "for _ in range(num):\n",
        "  arr.append(int(input()))\n",
        "for i in range(num-1):\n",
        "  for j in range(num-1-j):\n",
        "    print('j:  ',j)\n",
        "    if arr[j] > arr[j+1]:\n",
        "      arr[j],arr[j+1] = arr[j+1],arr[j]\n",
        "for k in arr:\n",
        "  print(k)\n"
      ],
      "execution_count": 0,
      "outputs": []
    }
  ]
}