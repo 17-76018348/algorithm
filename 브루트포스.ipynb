{
  "nbformat": 4,
  "nbformat_minor": 0,
  "metadata": {
    "colab": {
      "name": "브루트포스",
      "provenance": [],
      "include_colab_link": true
    },
    "kernelspec": {
      "name": "python3",
      "display_name": "Python 3"
    }
  },
  "cells": [
    {
      "cell_type": "markdown",
      "metadata": {
        "id": "view-in-github",
        "colab_type": "text"
      },
      "source": [
        "<a href=\"https://colab.research.google.com/github/17-76018348/algorithm/blob/master/%EB%B8%8C%EB%A3%A8%ED%8A%B8%ED%8F%AC%EC%8A%A4.ipynb\" target=\"_parent\"><img src=\"https://colab.research.google.com/assets/colab-badge.svg\" alt=\"Open In Colab\"/></a>"
      ]
    },
    {
      "cell_type": "code",
      "metadata": {
        "id": "oFe4AN_bW0D7",
        "colab_type": "code",
        "outputId": "d6ab84b2-5ff6-4ada-afbf-d230b5b600b7",
        "colab": {
          "base_uri": "https://localhost:8080/",
          "height": 55
        }
      },
      "source": [
        "a = input()\n",
        "int_a = int(a)\n",
        "num = 0\n",
        "flag = False\n",
        "if int_a>54:\n",
        "  for i in range(int_a-54,int_a):\n",
        "    for j in range(len(str(i))):\n",
        "      num += int((str(i))[j])\n",
        "    #print(i)\n",
        "    if num + i == int_a:\n",
        "      print(i)\n",
        "      flag = True\n",
        "      break\n",
        "    num = 0\n",
        "else:\n",
        "  for i in range(int_a):\n",
        "    for j in range(len(str(i))):\n",
        "      num += int((str(i))[j])\n",
        "    if num + i == int_a:\n",
        "      print(i)\n",
        "      flag = True\n",
        "      break\n",
        "    num = 0\n",
        "if flag == False:\n",
        "  print(\"0\")\n",
        "\n"
      ],
      "execution_count": 0,
      "outputs": [
        {
          "output_type": "stream",
          "text": [
            "41\n",
            "34\n"
          ],
          "name": "stdout"
        }
      ]
    },
    {
      "cell_type": "code",
      "metadata": {
        "id": "YUyykWnaXmjY",
        "colab_type": "code",
        "outputId": "c67e1d2c-dc66-4a73-e5aa-af5f2c409681",
        "colab": {
          "base_uri": "https://localhost:8080/",
          "height": 55
        }
      },
      "source": [
        "a = input()\n",
        "int_a = int(a)\n",
        "cnt = 0\n",
        "num = 0\n",
        "flag = False\n",
        "for i in range(100000000000000):\n",
        "  str_i = str(i)\n",
        "  for j in range(len(str_i)):\n",
        "    if str_i[j] == '6':\n",
        "      cnt += 1\n",
        "    elif str_i[j] != '6':\n",
        "      cnt = 0\n",
        "    if cnt >= 3:\n",
        "      num += 1\n",
        "      cnt = 0\n",
        "      \n",
        "      if num == int_a:\n",
        "        print(i)\n",
        "        flag = True\n",
        "        break\n",
        "      break\n",
        "  cnt = 0\n",
        "  if flag == True:\n",
        "    break\n",
        "\n",
        "    \n",
        "\n",
        "  "
      ],
      "execution_count": 0,
      "outputs": [
        {
          "output_type": "stream",
          "text": [
            "2468\n",
            "666667\n"
          ],
          "name": "stdout"
        }
      ]
    },
    {
      "cell_type": "code",
      "metadata": {
        "id": "qOc9v4skpQ-6",
        "colab_type": "code",
        "outputId": "d1c16dd0-450e-474e-d227-755ca88c3d9d",
        "colab": {
          "base_uri": "https://localhost:8080/",
          "height": 241
        }
      },
      "source": [
        "y,x = map(int,input().split())\n",
        "result = list()\n",
        "num = 0\n",
        "arr = []\n",
        "for i in range(y):\n",
        "    tmp = list()\n",
        "    str_ = input()\n",
        "    for ch in str_:\n",
        "        tmp.append(ch)\n",
        "    result.append(tmp)\n",
        "for cnt_1 in range(y-7):\n",
        "  for cnt_2 in range(x-7):\n",
        "    for i in range(0+cnt_1,8+cnt_1):\n",
        "      for j in range(0+cnt_2,8+cnt_2):\n",
        "        if (i+j) %2 ==0:\n",
        "          if result[i][j] == 'B':\n",
        "            num += 1\n",
        "        else:\n",
        "          if result[i][j] == 'W':\n",
        "            num += 1\n",
        "    arr.append(num)\n",
        "    num = 0\n",
        "for cnt_1 in range(y-7):\n",
        "  for cnt_2 in range(x-7):\n",
        "    for i in range(0+cnt_1,8+cnt_1):\n",
        "      for j in range(0+cnt_2,8+cnt_2):\n",
        "        if (i+j) %2 ==1:\n",
        "          if result[i][j] == 'B':\n",
        "            num += 1\n",
        "        else:\n",
        "          if result[i][j] == 'W':\n",
        "            num += 1\n",
        "    arr.append(num)\n",
        "    num = 0\n",
        "arr.sort()\n",
        "print(arr[0])\n",
        "\n",
        "\n",
        "\n",
        "\n"
      ],
      "execution_count": 0,
      "outputs": [
        {
          "output_type": "stream",
          "text": [
            "10 13\n",
            "BBBBBBBBWBWBW\n",
            "BBBBBBBBBWBWB\n",
            "BBBBBBBBWBWBW\n",
            "BBBBBBBBBWBWB\n",
            "BBBBBBBBWBWBW\n",
            "BBBBBBBBBWBWB\n",
            "BBBBBBBBWBWBW\n",
            "BBBBBBBBBWBWB\n",
            "WWWWWWWWWWBWB\n",
            "WWWWWWWWWWBWB\n",
            "12\n"
          ],
          "name": "stdout"
        }
      ]
    },
    {
      "cell_type": "code",
      "metadata": {
        "id": "Y5whNPlZ4IlF",
        "colab_type": "code",
        "outputId": "00f926c5-1d45-44d7-898a-2e4a366ffff8",
        "colab": {
          "base_uri": "https://localhost:8080/",
          "height": 409
        }
      },
      "source": [
        "num = int(input())\n",
        "arr = []\n",
        "for _ in range(num):\n",
        "  arr.append(int(input()))\n",
        "for i in range(num-1):\n",
        "  for j in range(num-1-j):\n",
        "    print('j:  ',j)\n",
        "    if arr[j] > arr[j+1]:\n",
        "      arr[j],arr[j+1] = arr[j+1],arr[j]\n",
        "for k in arr:\n",
        "  print(k)\n"
      ],
      "execution_count": 0,
      "outputs": [
        {
          "output_type": "stream",
          "text": [
            "5\n",
            "5\n",
            "2\n",
            "4\n",
            "3\n",
            "1\n",
            "j:   0\n",
            "j:   0\n",
            "j:   1\n",
            "j:   2\n",
            "j:   3\n",
            "j:   0\n",
            "j:   0\n",
            "j:   1\n",
            "j:   2\n",
            "j:   3\n",
            "2\n",
            "3\n",
            "1\n",
            "4\n",
            "5\n"
          ],
          "name": "stdout"
        }
      ]
    },
    {
      "cell_type": "code",
      "metadata": {
        "id": "OvbKgOmDs_l0",
        "colab_type": "code",
        "outputId": "df4e7485-c1da-4e3c-f3bd-858af42014e6",
        "colab": {
          "base_uri": "https://localhost:8080/",
          "height": 36
        }
      },
      "source": [
        "result"
      ],
      "execution_count": 0,
      "outputs": [
        {
          "output_type": "execute_result",
          "data": {
            "text/plain": [
              "[['A', 'B', 'C'], ['B', 'C', 'D'], ['F', 'A', 'S']]"
            ]
          },
          "metadata": {
            "tags": []
          },
          "execution_count": 62
        }
      ]
    }
  ]
}